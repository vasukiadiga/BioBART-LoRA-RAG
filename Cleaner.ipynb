{
 "cells": [
  {
   "cell_type": "code",
   "execution_count": 1,
   "id": "53c1c85d-f666-44e3-94f6-7a95abd6188c",
   "metadata": {},
   "outputs": [],
   "source": [
    "import re\n",
    "import json\n"
   ]
  },
  {
   "cell_type": "code",
   "execution_count": 31,
   "id": "8394a79e-9c49-4ee1-b439-fc76bd120924",
   "metadata": {},
   "outputs": [],
   "source": [
    "def clean_answer(ans):\n",
    "    \"\"\"Clean the answer string according to rules.\"\"\"\n",
    "    if ans is None:\n",
    "        return None  # Keep nulls as-is\n",
    "\n",
    "    # --- Remove ANY \"Ans.\" or \"Answer\" patterns (aggressive matching) ---\n",
    "    # Handles: Ans. A, Ans:A, Ans 'B', Ans is 'C', Ans- D, ans.1, ans: i.e.,\n",
    "    # Also catches: Answe:, ANS--, ans = 'D', Answer: A\n",
    "    ans = re.sub(\n",
    "        r\"\\bAns(?:wer)?\\b\\s*[\\.:=\\-–—]*\\s*(is)?\\s*['\\\"]?\\(?[a-dA-D0-9]+\\)?['\\\"]?\\s*(i\\.?\\s*e\\.?,?)?\\s*\",\n",
    "        \"\",\n",
    "        ans,\n",
    "        flags=re.IGNORECASE\n",
    "    )\n",
    "\n",
    "    # --- Remove leading option markers like \"(a)\", \"'a'\", \"a)\", \"1)\", etc. ---\n",
    "    ans = re.sub(r\"^\\s*\\(?[a-dA-D0-9]\\)?\\s*(i\\.?\\s*e\\.?,?)?\\s*\", \"\", ans)\n",
    "\n",
    "    # --- Fix missing space after punctuation ---\n",
    "    ans = re.sub(r\"([.,;:!?])([A-Za-z])\", r\"\\1 \\2\", ans)\n",
    "\n",
    "    # --- Replace multiple dots with a single dot ---\n",
    "    ans = re.sub(r\"\\.{2,}\", \".\", ans)\n",
    "\n",
    "    # --- Normalize multiple spaces ---\n",
    "    ans = re.sub(r\"\\s+\", \" \", ans)\n",
    "\n",
    "    # --- Strip leading/trailing spaces & quotes ---\n",
    "    ans = ans.strip(\" '\\\"\\t\\r\\n\")\n",
    "\n",
    "    return ans if ans else None  # Set to None if empty\n"
   ]
  },
  {
   "cell_type": "code",
   "execution_count": 33,
   "id": "a8544618-e2a4-4019-9709-64fe2de7ac8f",
   "metadata": {},
   "outputs": [],
   "source": [
    "def clean_jsonl(input_path, output_path):\n",
    "    with open(input_path, 'r', encoding='utf-8') as infile, \\\n",
    "         open(output_path, 'w', encoding='utf-8') as outfile:\n",
    "\n",
    "        for line in infile:\n",
    "            if not line.strip():\n",
    "                continue\n",
    "\n",
    "            try:\n",
    "                obj = json.loads(line)\n",
    "            except json.JSONDecodeError as e:\n",
    "                print(f\"Skipping malformed line: {e}\")\n",
    "                continue\n",
    "\n",
    "            if \"answer\" in obj:\n",
    "                obj[\"answer\"] = clean_answer(obj[\"answer\"])\n",
    "\n",
    "            outfile.write(json.dumps(obj, ensure_ascii=False) + \"\\n\")"
   ]
  },
  {
   "cell_type": "code",
   "execution_count": 35,
   "id": "d152433a-6e92-40a5-a198-9b15ecdba27c",
   "metadata": {},
   "outputs": [
    {
     "name": "stdout",
     "output_type": "stream",
     "text": [
      "Cleaned file saved to C:\\Users\\adiga\\OneDrive\\Desktop\\For training\\merged_corpus_cleaned_Final.jsonl\n"
     ]
    }
   ],
   "source": [
    "# Example usage\n",
    "input_file = \"C:\\\\Users\\\\adiga\\\\OneDrive\\\\Desktop\\\\For training\\\\unified_training.jsonl\"\n",
    "output_file = \"C:\\\\Users\\\\adiga\\\\OneDrive\\\\Desktop\\\\For training\\\\merged_corpus_cleaned_Final.jsonl\"\n",
    "clean_jsonl(input_file, output_file)\n",
    "print(f\"Cleaned file saved to {output_file}\")"
   ]
  },
  {
   "cell_type": "code",
   "execution_count": 37,
   "id": "53d909f4-7eca-4405-9f09-4cc2a64501e6",
   "metadata": {},
   "outputs": [
    {
     "name": "stdout",
     "output_type": "stream",
     "text": [
      "Found 2672 possible leftover 'Ans.' patterns. Report saved to C:\\Users\\adiga\\OneDrive\\Desktop\\For training\\leftover_ans_patterns.json\n"
     ]
    }
   ],
   "source": [
    "import re\n",
    "import json\n",
    "\n",
    "def scan_for_ans_patterns(input_path, report_path):\n",
    "    ans_pattern = re.compile(r\"\\bAns\\b\", re.IGNORECASE)\n",
    "    leftovers = []\n",
    "\n",
    "    with open(input_path, 'r', encoding='utf-8') as infile:\n",
    "        for idx, line in enumerate(infile, start=1):\n",
    "            if not line.strip():\n",
    "                continue\n",
    "\n",
    "            try:\n",
    "                obj = json.loads(line)\n",
    "            except json.JSONDecodeError:\n",
    "                continue\n",
    "\n",
    "            ans_text = obj.get(\"answer\")\n",
    "            if ans_text and ans_pattern.search(ans_text):\n",
    "                leftovers.append({\n",
    "                    \"line_number\": idx,\n",
    "                    \"id\": obj.get(\"id\"),\n",
    "                    \"answer\": ans_text.strip()\n",
    "                })\n",
    "\n",
    "    with open(report_path, 'w', encoding='utf-8') as outfile:\n",
    "        json.dump(leftovers, outfile, indent=2, ensure_ascii=False)\n",
    "\n",
    "    print(f\"Found {len(leftovers)} possible leftover 'Ans.' patterns. Report saved to {report_path}\")\n",
    "\n",
    "# Example usage\n",
    "input_file = \"C:\\\\Users\\\\adiga\\\\OneDrive\\\\Desktop\\\\For training\\\\merged_corpus_cleaned_Final.jsonl\"   # already cleaned file\n",
    "output_report = \"C:\\\\Users\\\\adiga\\\\OneDrive\\\\Desktop\\\\For training\\\\leftover_ans_patterns.json\"\n",
    "\n",
    "scan_for_ans_patterns(input_file, output_report)\n"
   ]
  },
  {
   "cell_type": "code",
   "execution_count": null,
   "id": "3fc76403-ec8c-47d6-a046-6e7464e31a57",
   "metadata": {},
   "outputs": [],
   "source": []
  }
 ],
 "metadata": {
  "kernelspec": {
   "display_name": "Python 3 (ipykernel)",
   "language": "python",
   "name": "python3"
  },
  "language_info": {
   "codemirror_mode": {
    "name": "ipython",
    "version": 3
   },
   "file_extension": ".py",
   "mimetype": "text/x-python",
   "name": "python",
   "nbconvert_exporter": "python",
   "pygments_lexer": "ipython3",
   "version": "3.12.4"
  }
 },
 "nbformat": 4,
 "nbformat_minor": 5
}
